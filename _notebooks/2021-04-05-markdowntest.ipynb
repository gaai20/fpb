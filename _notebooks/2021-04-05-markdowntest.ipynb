{
  "nbformat": 4,
  "nbformat_minor": 0,
  "metadata": {
    "colab": {
      "name": "2021-04-05-.ipynb",
      "provenance": [],
      "collapsed_sections": [],
      "include_colab_link": false
    },
    "kernelspec": {
      "name": "python3",
      "display_name": "Python 3"
    },
    "language_info": {
      "name": "python"
    }
  },
  "cells": [
    {
      "cell_type": "markdown",
      "metadata": {
        "id": "view-in-github",
        "colab_type": "text"
      },
      "source": [
        "<a href=\"https://colab.research.google.com/github/gaai20/fpb/blob/master/_notebooks/2021-04-05-markdown.ipynb\" target=\"_parent\"><img src=\"https://colab.research.google.com/assets/colab-badge.svg\" alt=\"Open In Colab\"/></a>"
      ]
    },
    {
      "cell_type": "markdown",
      "metadata": {
        "id": "p1eFQJkkxVrZ"
      },
      "source": [
        " yoo"
      ]
    },
    {
      "cell_type": "markdown",
      "metadata": {
        "id": "OlYeh8fbxiaS"
      },
      "source": [
        ""
      ]
    },
    {
      "cell_type": "markdown",
      "metadata": {
        "id": "XivZovt6QpGy"
      },
      "source": [
        "#multilayer  neural net"
      ]
    },
    {
      "cell_type": "code",
      "metadata": {
        "id": "c0ifTxFCQF2s"
      },
      "source": [
        "import torch"
      ],
      "execution_count": null,
      "outputs": []
    },
    {
      "cell_type": "code",
      "metadata": {
        "colab": {
          "base_uri": "https://localhost:8080/"
        },
        "id": "QSIznuX-QeMa",
        "outputId": "91ea26e2-1805-4f13-af19-ee68db4e8a73"
      },
      "source": [
        "torch.manual_seed(7)\n",
        " \n",
        " \n",
        "features=torch.Tensor([[0,1,1],[0,1,1]])\n",
        " \n",
        "inlaye=features.view(1,6)\n",
        "\n",
        "inlayer=inlaye.shape[1]\n",
        " \n",
        "hidlay=2\n",
        " \n",
        "outlay=1\n",
        " \n",
        "w1=torch.randn((inlayer,hidlay))\n",
        " \n",
        "w2=torch.randn((hidlay,outlay))\n",
        " \n",
        "def sigmoid(x):\n",
        " \n",
        "   return 1/1+(torch.exp(-x))\n",
        "b1=torch.randn((1,1))\n",
        " \n",
        "y=torch.mm(inlaye,w1)+b1\n",
        " \n",
        "\n",
        "z=sigmoid(torch.mm(y,w2))\n",
        "\n",
        "z"
      ],
      "execution_count": null,
      "outputs": [
        {
          "output_type": "execute_result",
          "data": {
            "text/plain": [
              "tensor([[1.9084]])"
            ]
          },
          "metadata": {
            "tags": []
          },
          "execution_count": 53
        }
      ]
    },
    {
      "cell_type": "code",
      "metadata": {
        "id": "xz7knuI8YyHI"
      },
      "source": [
        "p=torch.Tensor([[27,2],[3,3]])\n",
        "\n",
        "q=torch.Tensor([[10,5],[3,3]])"
      ],
      "execution_count": null,
      "outputs": []
    },
    {
      "cell_type": "code",
      "metadata": {
        "id": "jnPPcQfnZJ96",
        "colab": {
          "base_uri": "https://localhost:8080/"
        },
        "outputId": "ad464e85-5ca0-4b6b-e187-6a8ea682b35c"
      },
      "source": [
        "print(p+q)"
      ],
      "execution_count": null,
      "outputs": [
        {
          "output_type": "stream",
          "text": [
            "tensor([[37.,  7.],\n",
            "        [ 6.,  6.]])\n"
          ],
          "name": "stdout"
        }
      ]
    },
    {
      "cell_type": "markdown",
      "metadata": {
        "id": "FrOWL7YcxSMB"
      },
      "source": [
        ""
      ]
    },
    {
      "cell_type": "markdown",
      "metadata": {
        "id": "TxhEVWYneiV8"
      },
      "source": [
        "martices;adition\n",
        "\n",
        "\n",
        "# possible\n",
        "\n",
        "*   1 * 1 + m * n\n",
        "\n",
        "*   1 * m + h * m\n",
        "\n",
        "*   m * n + m * n \n"
      ]
    },
    {
      "cell_type": "code",
      "metadata": {
        "colab": {
          "base_uri": "https://localhost:8080/"
        },
        "id": "92rSzLiEzOht",
        "outputId": "50996bd9-2093-44dd-ebb0-f9f2c52ac060"
      },
      "source": [
        "e=torch.Tensor([[1,3,4],[1,2,1]])\n",
        "print(e)"
      ],
      "execution_count": null,
      "outputs": [
        {
          "output_type": "stream",
          "text": [
            "tensor([[1., 3., 4.],\n",
            "        [1., 2., 1.]])\n"
          ],
          "name": "stdout"
        }
      ]
    },
    {
      "cell_type": "code",
      "metadata": {
        "colab": {
          "base_uri": "https://localhost:8080/"
        },
        "id": "K1JYEusszfho",
        "outputId": "c868de7f-b440-43e5-e951-9a87f359f6bb"
      },
      "source": [
        "t=e.view(1,6)\n",
        "print(t)"
      ],
      "execution_count": null,
      "outputs": [
        {
          "output_type": "stream",
          "text": [
            "tensor([[1., 3., 4., 1., 2., 1.]])\n"
          ],
          "name": "stdout"
        }
      ]
    }
  ]
}
