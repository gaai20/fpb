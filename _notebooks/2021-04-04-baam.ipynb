{
  "nbformat": 4,
  "nbformat_minor": 0,
  "metadata": {
    "colab": {
      "name": "2021-04-04- ipynb",
      "provenance": [],
      "collapsed_sections": []
    },
    "kernelspec": {
      "display_name": "Python 3",
      "name": "python3"
    },
    "language_info": {
      "name": "python"
    },
    "accelerator": "GPU"
  },
  "cells": [
    {
      "cell_type": "markdown",
      "metadata": {
        "id": "lyLd-JF50Rl6"
      },
      "source": [
        "##🤪 back again"
      ]
    },
    {
      "cell_type": "markdown",
      "metadata": {
        "id": "5pO4ZdPp_lNh"
      },
      "source": [
        "# baaaaaaaam"
      ]
    },
    {
      "cell_type": "markdown",
      "metadata": {
        "id": "cPsUn110ADEB"
      },
      "source": [
        "#🌼🌼🌼🌼🌼🌼🌼🌼🌼🌼🌼🌼🌼🌼🌼🔬booom"
      ]
    },
    {
      "cell_type": "code",
      "metadata": {
        "id": "urLvPJcLKVE4"
      },
      "source": [
        "import torch"
      ],
      "execution_count": null,
      "outputs": []
    },
    {
      "cell_type": "code",
      "metadata": {
        "id": "6YB8FU8MKiS2"
      },
      "source": [
        "def activation(x):\n",
        "  \n",
        "   return 1/(1+torch.exp(-x))"
      ],
      "execution_count": null,
      "outputs": []
    },
    {
      "cell_type": "code",
      "metadata": {
        "id": "W1JpB7EUK9Bw"
      },
      "source": [
        "torch.manual_seed(7)\n",
        " \n",
        "inp=torch.randn((1,4))\n",
        " \n",
        "weight=torch.randn((4,2))\n",
        " \n",
        "bias=torch.Tensor([1])"
      ],
      "execution_count": null,
      "outputs": []
    },
    {
      "cell_type": "code",
      "metadata": {
        "colab": {
          "base_uri": "https://localhost:8080/"
        },
        "id": "f6N8dN54MEqw",
        "outputId": "ac5d6f2a-fd09-4213-9ed0-965712096a37"
      },
      "source": [
        "bias"
      ],
      "execution_count": null,
      "outputs": [
        {
          "output_type": "execute_result",
          "data": {
            "text/plain": [
              "tensor([1.])"
            ]
          },
          "metadata": {
            "tags": []
          },
          "execution_count": 31
        }
      ]
    },
    {
      "cell_type": "code",
      "metadata": {
        "id": "4gkq7Cj-MqIJ",
        "colab": {
          "base_uri": "https://localhost:8080/"
        },
        "outputId": "3ce8559b-6db5-42c8-a2ae-fa6e3cd330b8"
      },
      "source": [
        "y0=torch.matmul(inp,weight)\n",
        "y0"
      ],
      "execution_count": null,
      "outputs": [
        {
          "output_type": "execute_result",
          "data": {
            "text/plain": [
              "tensor([[-0.7509, -0.6405]])"
            ]
          },
          "metadata": {
            "tags": []
          },
          "execution_count": 29
        }
      ]
    },
    {
      "cell_type": "code",
      "metadata": {
        "colab": {
          "base_uri": "https://localhost:8080/"
        },
        "id": "4ti1kP3Il7Rk",
        "outputId": "6e5be4e7-586c-4f63-dd75-6932ab51a124"
      },
      "source": [
        " \n",
        "y0=activation(torch.matmul(inp,weight)+bias)\n",
        "y0"
      ],
      "execution_count": null,
      "outputs": [
        {
          "output_type": "execute_result",
          "data": {
            "text/plain": [
              "tensor([[0.5619, 0.5889]])"
            ]
          },
          "metadata": {
            "tags": []
          },
          "execution_count": 32
        }
      ]
    },
    {
      "cell_type": "markdown",
      "metadata": {
        "id": "26f481mbMY0e"
      },
      "source": [
        "Neural net\n",
        " \n",
        "After a long break back to action with neural network, starting with udacity torch"
      ]
    },
    {
      "cell_type": "markdown",
      "metadata": {
        "id": "ANu7tINMoqt1"
      },
      "source": [
        "Started with torch library ,sigmoid activation function , manual seed, random tensor, matrix multiplication, by combining all these we made a neural network"
      ]
    }
  ]
}